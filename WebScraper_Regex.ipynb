{
 "cells": [
  {
   "cell_type": "code",
   "execution_count": 33,
   "id": "5832b39f",
   "metadata": {},
   "outputs": [],
   "source": [
    "#Import libraries\n",
    "from bs4 import BeautifulSoup\n",
    "import requests\n",
    "import re\n",
    "import pandas as pd\n",
    "\n",
    "#Webpage Request\n",
    "url = 'http://analytictech.com/mb021/mlk.htm'\n",
    "page = requests.get(url)\n",
    "soup = BeautifulSoup(page.text, 'html')\n",
    "\n",
    "#Clean the data\n",
    "mlkj_speech = soup.find_all('p')\n",
    "speech_combined = [p.text for p in mlkj_speech]\n",
    "string_speech = ' '.join(speech_combined)\n",
    "clean_string_speech = string_speech.replace('\\r\\n', ' ')\n",
    "speech_no_punctuation = re.sub(r'[^\\w\\s]', '', clean_string_speech)\n",
    "speech_lower = speech_no_punctuation.lower()\n",
    "speech_broken_out = re.split(r'\\s+', speech_lower)\n",
    "\n",
    "#Create dataframe w/ results and save to CSV\n",
    "df = pd.DataFrame(speech_broken_out).value_counts()\n",
    "df.to_csv(r'C:\\Users\\bosma\\OneDrive\\Documents\\Python Scripts\\AnalystBuilder\\mlkjr_speech_counts.csv', header = 'Counts', index_label = 'Word')"
   ]
  },
  {
   "cell_type": "code",
   "execution_count": null,
   "id": "1df87d19",
   "metadata": {},
   "outputs": [],
   "source": []
  }
 ],
 "metadata": {
  "kernelspec": {
   "display_name": "Python 3 (ipykernel)",
   "language": "python",
   "name": "python3"
  },
  "language_info": {
   "codemirror_mode": {
    "name": "ipython",
    "version": 3
   },
   "file_extension": ".py",
   "mimetype": "text/x-python",
   "name": "python",
   "nbconvert_exporter": "python",
   "pygments_lexer": "ipython3",
   "version": "3.11.5"
  }
 },
 "nbformat": 4,
 "nbformat_minor": 5
}
