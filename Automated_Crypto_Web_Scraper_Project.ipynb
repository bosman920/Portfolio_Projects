{
 "cells": [
  {
   "cell_type": "code",
   "execution_count": 59,
   "id": "4e9e5dc2",
   "metadata": {},
   "outputs": [],
   "source": [
    "from bs4 import BeautifulSoup\n",
    "import requests"
   ]
  },
  {
   "cell_type": "code",
   "execution_count": 45,
   "id": "61939565",
   "metadata": {},
   "outputs": [],
   "source": [
    "url = 'https://coinmarketcap.com/currencies/bitcoin/'\n",
    "\n",
    "page = requests.get(url)\n",
    "\n",
    "soup = BeautifulSoup(page.text, 'html')"
   ]
  },
  {
   "cell_type": "code",
   "execution_count": 46,
   "id": "8f57eefa",
   "metadata": {},
   "outputs": [
    {
     "name": "stdout",
     "output_type": "stream",
     "text": [
      "35,011.46\n"
     ]
    }
   ],
   "source": [
    "crypto_price = soup.find('span', 'sc-f70bb44c-0 jxpCgO base-text').text\n",
    "final_price = crypto_price.replace('$', '')\n",
    "print(final_price)"
   ]
  },
  {
   "cell_type": "code",
   "execution_count": 47,
   "id": "4520f25f",
   "metadata": {},
   "outputs": [
    {
     "name": "stdout",
     "output_type": "stream",
     "text": [
      "Bitcoin\n"
     ]
    }
   ],
   "source": [
    "crypto_titles = soup.find('span', 'sc-f70bb44c-0 SVbay', title = 'Bitcoin').text\n",
    "\n",
    "crypto_titles_split = crypto_titles.split(' ')\n",
    "\n",
    "crypto_name = crypto_titles_split[0]\n",
    "print(crypto_name)"
   ]
  },
  {
   "cell_type": "code",
   "execution_count": 48,
   "id": "3460491d",
   "metadata": {},
   "outputs": [
    {
     "name": "stdout",
     "output_type": "stream",
     "text": [
      "2023-11-06 12:25:42.633263\n"
     ]
    }
   ],
   "source": [
    "from datetime import datetime\n",
    "\n",
    "date_time = datetime.now()\n",
    "print(date_time)"
   ]
  },
  {
   "cell_type": "code",
   "execution_count": 54,
   "id": "ed6146a1",
   "metadata": {},
   "outputs": [
    {
     "data": {
      "text/html": [
       "<div>\n",
       "<style scoped>\n",
       "    .dataframe tbody tr th:only-of-type {\n",
       "        vertical-align: middle;\n",
       "    }\n",
       "\n",
       "    .dataframe tbody tr th {\n",
       "        vertical-align: top;\n",
       "    }\n",
       "\n",
       "    .dataframe thead th {\n",
       "        text-align: right;\n",
       "    }\n",
       "</style>\n",
       "<table border=\"1\" class=\"dataframe\">\n",
       "  <thead>\n",
       "    <tr style=\"text-align: right;\">\n",
       "      <th></th>\n",
       "      <th>Crypto Name</th>\n",
       "      <th>Price</th>\n",
       "      <th>TimeStamp</th>\n",
       "    </tr>\n",
       "  </thead>\n",
       "  <tbody>\n",
       "    <tr>\n",
       "      <th>0</th>\n",
       "      <td>Bitcoin</td>\n",
       "      <td>35,011.46</td>\n",
       "      <td>2023-11-06 12:26:36.832900</td>\n",
       "    </tr>\n",
       "  </tbody>\n",
       "</table>\n",
       "</div>"
      ],
      "text/plain": [
       "  Crypto Name      Price                  TimeStamp\n",
       "0     Bitcoin  35,011.46 2023-11-06 12:26:36.832900"
      ]
     },
     "execution_count": 54,
     "metadata": {},
     "output_type": "execute_result"
    }
   ],
   "source": [
    "date_time = datetime.now()\n",
    "\n",
    "import pandas as pd\n",
    "\n",
    "dict = {'Crypto Name': crypto_name, \n",
    "       'Price': final_price, \n",
    "       'TimeStamp': date_time}\n",
    "\n",
    "df = pd.DataFrame([dict])\n",
    "df"
   ]
  },
  {
   "cell_type": "code",
   "execution_count": 55,
   "id": "c7282b06",
   "metadata": {},
   "outputs": [],
   "source": [
    "df.to_csv(r'C:\\Users\\bosma\\OneDrive\\Notebook Scrypts\\Crypto Web Puller\\Crypto_Automated_Pull.csv')"
   ]
  },
  {
   "cell_type": "code",
   "execution_count": 57,
   "id": "f5ec5724",
   "metadata": {},
   "outputs": [],
   "source": [
    "import os\n",
    "\n",
    "if os.path.exists(r'C:\\Users\\bosma\\OneDrive\\Notebook Scrypts\\Crypto Web Puller\\Crypto_Automated_Pull.csv'):\n",
    "    df.to_csv(r'C:\\Users\\bosma\\OneDrive\\Notebook Scrypts\\Crypto Web Puller\\Crypto_Automated_Pull.csv', mode = 'a', header = False)\n",
    "else:\n",
    "    df.to_csv(r'C:\\Users\\bosma\\OneDrive\\Notebook Scrypts\\Crypto Web Puller\\Crypto_Automated_Pull.csv')"
   ]
  },
  {
   "cell_type": "markdown",
   "id": "c533af12",
   "metadata": {},
   "source": [
    "#Final clean code"
   ]
  },
  {
   "cell_type": "code",
   "execution_count": 71,
   "id": "f16d19cc",
   "metadata": {},
   "outputs": [],
   "source": [
    "from bs4 import BeautifulSoup\n",
    "import requests\n",
    "import pandas as pd\n",
    "import os\n",
    "from datetime import datetime\n",
    "import time"
   ]
  },
  {
   "cell_type": "code",
   "execution_count": 72,
   "id": "0cb53cea",
   "metadata": {},
   "outputs": [],
   "source": [
    "def automated_crypto_pull():\n",
    "    url = 'https://coinmarketcap.com/currencies/bitcoin/'\n",
    "    page = requests.get(url)\n",
    "    soup = BeautifulSoup(page.text, 'html')\n",
    "\n",
    "    crypto_titles = soup.find('span', 'sc-f70bb44c-0 SVbay', title = 'Bitcoin').text\n",
    "    crypto_titles_split = crypto_titles.split(' ')\n",
    "    crypto_name = crypto_titles_split[0]\n",
    "\n",
    "    crypto_price = soup.find('span', 'sc-f70bb44c-0 jxpCgO base-text').text\n",
    "    final_price = crypto_price.replace('$', '')\n",
    "\n",
    "    from datetime import datetime\n",
    "    date_time = datetime.now()\n",
    "\n",
    "    dict = {'Crypto Name': crypto_name, \n",
    "           'Price': final_price, \n",
    "           'TimeStamp': date_time}\n",
    "\n",
    "    df = pd.DataFrame([dict])\n",
    "\n",
    "    if os.path.exists(r'C:\\Users\\bosma\\OneDrive\\Notebook Scrypts\\Crypto Web Puller\\Crypto_Automated_Pull.csv'):\n",
    "        df.to_csv(r'C:\\Users\\bosma\\OneDrive\\Notebook Scrypts\\Crypto Web Puller\\Crypto_Automated_Pull.csv', mode = 'a', header = False, index = False)\n",
    "    else:\n",
    "        df.to_csv(r'C:\\Users\\bosma\\OneDrive\\Notebook Scrypts\\Crypto Web Puller\\Crypto_Automated_Pull.csv', index = False)\n",
    "    \n",
    "    print(df)"
   ]
  },
  {
   "cell_type": "code",
   "execution_count": null,
   "id": "1bda50c5",
   "metadata": {},
   "outputs": [
    {
     "name": "stdout",
     "output_type": "stream",
     "text": [
      "  Crypto Name      Price                  TimeStamp\n",
      "0     Bitcoin  34,957.04 2023-11-06 12:55:12.299843\n"
     ]
    }
   ],
   "source": [
    "while True:\n",
    "    automated_crypto_pull()\n",
    "    time.sleep(86400)"
   ]
  },
  {
   "cell_type": "code",
   "execution_count": null,
   "id": "d35983b7",
   "metadata": {},
   "outputs": [],
   "source": []
  }
 ],
 "metadata": {
  "kernelspec": {
   "display_name": "Python 3 (ipykernel)",
   "language": "python",
   "name": "python3"
  },
  "language_info": {
   "codemirror_mode": {
    "name": "ipython",
    "version": 3
   },
   "file_extension": ".py",
   "mimetype": "text/x-python",
   "name": "python",
   "nbconvert_exporter": "python",
   "pygments_lexer": "ipython3",
   "version": "3.11.5"
  }
 },
 "nbformat": 4,
 "nbformat_minor": 5
}
