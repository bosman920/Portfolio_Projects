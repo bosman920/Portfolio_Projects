{
 "cells": [
  {
   "cell_type": "code",
   "execution_count": 1,
   "id": "ddea60ed",
   "metadata": {},
   "outputs": [],
   "source": [
    "from bs4 import BeautifulSoup\n",
    "import requests"
   ]
  },
  {
   "cell_type": "code",
   "execution_count": 2,
   "id": "6c3f0e81",
   "metadata": {},
   "outputs": [],
   "source": [
    "url = 'https://coinmarketcap.com/currencies/kaspa/'\n",
    "\n",
    "page = requests.get(url)\n",
    "\n",
    "soup = BeautifulSoup(page.text, 'html')"
   ]
  },
  {
   "cell_type": "code",
   "execution_count": 19,
   "id": "85f4a55c",
   "metadata": {},
   "outputs": [
    {
     "name": "stdout",
     "output_type": "stream",
     "text": [
      "Kaspa\n"
     ]
    }
   ],
   "source": [
    "crypto = soup.find('span', 'coin-name-mobile').text\n",
    "split = crypto.split(' ')\n",
    "name = split[0]\n",
    "print(name)"
   ]
  },
  {
   "cell_type": "code",
   "execution_count": 21,
   "id": "efacca20",
   "metadata": {},
   "outputs": [
    {
     "name": "stdout",
     "output_type": "stream",
     "text": [
      "0.1087\n"
     ]
    }
   ],
   "source": [
    "price_raw = soup.find('span', 'sc-f70bb44c-0 jxpCgO base-text').text\n",
    "price = price_raw.strip('$')\n",
    "print(price)"
   ]
  },
  {
   "cell_type": "code",
   "execution_count": 22,
   "id": "8cd63473",
   "metadata": {},
   "outputs": [
    {
     "name": "stdout",
     "output_type": "stream",
     "text": [
      "2023-11-15 12:39:28.481565\n"
     ]
    }
   ],
   "source": [
    "from datetime import datetime\n",
    "datetime = datetime.now()\n",
    "print(datetime)"
   ]
  },
  {
   "cell_type": "code",
   "execution_count": 23,
   "id": "9d0a7f05",
   "metadata": {},
   "outputs": [
    {
     "data": {
      "text/html": [
       "<div>\n",
       "<style scoped>\n",
       "    .dataframe tbody tr th:only-of-type {\n",
       "        vertical-align: middle;\n",
       "    }\n",
       "\n",
       "    .dataframe tbody tr th {\n",
       "        vertical-align: top;\n",
       "    }\n",
       "\n",
       "    .dataframe thead th {\n",
       "        text-align: right;\n",
       "    }\n",
       "</style>\n",
       "<table border=\"1\" class=\"dataframe\">\n",
       "  <thead>\n",
       "    <tr style=\"text-align: right;\">\n",
       "      <th></th>\n",
       "      <th>Crypto Name</th>\n",
       "      <th>Price</th>\n",
       "      <th>Timestamp</th>\n",
       "    </tr>\n",
       "  </thead>\n",
       "  <tbody>\n",
       "    <tr>\n",
       "      <th>0</th>\n",
       "      <td>Kaspa</td>\n",
       "      <td>0.1087</td>\n",
       "      <td>2023-11-15 12:41:28.298414</td>\n",
       "    </tr>\n",
       "  </tbody>\n",
       "</table>\n",
       "</div>"
      ],
      "text/plain": [
       "  Crypto Name   Price                  Timestamp\n",
       "0       Kaspa  0.1087 2023-11-15 12:41:28.298414"
      ]
     },
     "execution_count": 23,
     "metadata": {},
     "output_type": "execute_result"
    }
   ],
   "source": [
    "datetime = datetime.now()\n",
    "\n",
    "import pandas as pd\n",
    "\n",
    "dict = {'Crypto Name': name, \n",
    "        'Price': price, \n",
    "        'Timestamp': datetime\n",
    "}\n",
    "\n",
    "df = pd.DataFrame([dict])\n",
    "df"
   ]
  },
  {
   "cell_type": "code",
   "execution_count": 24,
   "id": "f296ad97",
   "metadata": {},
   "outputs": [],
   "source": [
    "df.to_csv(r'C:\\Users\\bosma\\OneDrive\\Notebook Scrypts\\Crypto Web Puller\\Kaspa_Automated_Pull.csv')"
   ]
  },
  {
   "cell_type": "code",
   "execution_count": 25,
   "id": "b0cad54f",
   "metadata": {},
   "outputs": [],
   "source": [
    "import os\n",
    "\n",
    "if os.path.exists(r'C:\\Users\\bosma\\OneDrive\\Notebook Scrypts\\Crypto Web Puller\\Kaspa_Automated_Pull.csv'):\n",
    "    df.to_csv(r'C:\\Users\\bosma\\OneDrive\\Notebook Scrypts\\Crypto Web Puller\\Kaspa_Automated_Pull.csv', mode = 'a', header = False)\n",
    "else:\n",
    "    df.to_csv(r'C:\\Users\\bosma\\OneDrive\\Notebook Scrypts\\Crypto Web Puller\\Kaspa_Automated_Pull.csv')"
   ]
  },
  {
   "cell_type": "markdown",
   "id": "0a15be43",
   "metadata": {},
   "source": [
    "#FINAL CLEAN CODE"
   ]
  },
  {
   "cell_type": "code",
   "execution_count": 1,
   "id": "6e34a625",
   "metadata": {},
   "outputs": [],
   "source": [
    "from bs4 import BeautifulSoup\n",
    "import requests\n",
    "from datetime import datetime\n",
    "import pandas as pd\n",
    "import os\n",
    "import time"
   ]
  },
  {
   "cell_type": "code",
   "execution_count": 2,
   "id": "c48526e0",
   "metadata": {},
   "outputs": [],
   "source": [
    "def automated_kaspa_pull():\n",
    "    url = 'https://coinmarketcap.com/currencies/kaspa/'\n",
    "    page = requests.get(url)\n",
    "    soup = BeautifulSoup(page.text, 'html')\n",
    "    \n",
    "    crypto = soup.find('span', 'coin-name-mobile').text\n",
    "    split = crypto.split(' ')\n",
    "    name = split[0]\n",
    "    \n",
    "    price_raw = soup.find('span', 'sc-f70bb44c-0 jxpCgO base-text').text\n",
    "    price = price_raw.strip('$')\n",
    "    \n",
    "    date_time = datetime.now()\n",
    "\n",
    "    dict = {'Crypto Name': name, \n",
    "            'Price': price, \n",
    "            'Timestamp': date_time\n",
    "            }\n",
    "\n",
    "    df = pd.DataFrame([dict])\n",
    "    \n",
    "    if os.path.exists(r'C:\\Users\\bosma\\OneDrive\\Notebook Scrypts\\Crypto Web Puller\\Kaspa_Automated_Pull.csv'):\n",
    "        df.to_csv(r'C:\\Users\\bosma\\OneDrive\\Notebook Scrypts\\Crypto Web Puller\\Kaspa_Automated_Pull.csv', mode = 'a', header = False)\n",
    "    else:\n",
    "        df.to_csv(r'C:\\Users\\bosma\\OneDrive\\Notebook Scrypts\\Crypto Web Puller\\Kaspa_Automated_Pull.csv')\n",
    "    print(df)"
   ]
  },
  {
   "cell_type": "code",
   "execution_count": null,
   "id": "f1d205ff",
   "metadata": {},
   "outputs": [
    {
     "name": "stdout",
     "output_type": "stream",
     "text": [
      "  Crypto Name Price                  Timestamp\n",
      "0       Kaspa  0.11 2023-11-15 12:57:21.202892\n"
     ]
    }
   ],
   "source": [
    "while True:\n",
    "    automated_kaspa_pull()\n",
    "    time.sleep(86400)"
   ]
  },
  {
   "cell_type": "code",
   "execution_count": null,
   "id": "8b86ddc4",
   "metadata": {},
   "outputs": [],
   "source": []
  }
 ],
 "metadata": {
  "kernelspec": {
   "display_name": "Python 3 (ipykernel)",
   "language": "python",
   "name": "python3"
  },
  "language_info": {
   "codemirror_mode": {
    "name": "ipython",
    "version": 3
   },
   "file_extension": ".py",
   "mimetype": "text/x-python",
   "name": "python",
   "nbconvert_exporter": "python",
   "pygments_lexer": "ipython3",
   "version": "3.11.5"
  }
 },
 "nbformat": 4,
 "nbformat_minor": 5
}
